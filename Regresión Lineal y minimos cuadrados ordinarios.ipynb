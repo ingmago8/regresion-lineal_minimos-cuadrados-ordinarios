{
 "cells": [
  {
   "cell_type": "markdown",
   "id": "f88996c0",
   "metadata": {},
   "source": [
    "   # Regresion Líneal y el método de los Mínimos Cuadrados Ordinarios"
   ]
  },
  {
   "cell_type": "markdown",
   "id": "d18b4e78",
   "metadata": {},
   "source": [
    ]
  },
  {
   "cell_type": "code",
   "execution_count": 115,
   "id": "c8307293",
   "metadata": {},
   "outputs": [],
   "source": [
    "# importaciones\n",
    "import numpy as np\n",
    "import pandas as pd\n",
    "import matplotlib.pyplot as plt\n",
    "import seaborn as sns\n",
    "%matplotlib inline"
   ]
  },
  {
   "cell_type": "code",
   "execution_count": 107,
   "id": "8f25ad40",
   "metadata": {},
   "outputs": [
    {
     "data": {
      "text/html": [
       "<div>\n",
       "<style scoped>\n",
       "    .dataframe tbody tr th:only-of-type {\n",
       "        vertical-align: middle;\n",
       "    }\n",
       "\n",
       "    .dataframe tbody tr th {\n",
       "        vertical-align: top;\n",
       "    }\n",
       "\n",
       "    .dataframe thead th {\n",
       "        text-align: right;\n",
       "    }\n",
       "</style>\n",
       "<table border=\"1\" class=\"dataframe\">\n",
       "  <thead>\n",
       "    <tr style=\"text-align: right;\">\n",
       "      <th></th>\n",
       "      <th>TOWN</th>\n",
       "      <th>LON</th>\n",
       "      <th>LAT</th>\n",
       "      <th>MEDV</th>\n",
       "      <th>CRIM</th>\n",
       "      <th>ZN</th>\n",
       "      <th>INDUS</th>\n",
       "      <th>CHAS</th>\n",
       "      <th>NOX</th>\n",
       "      <th>RM</th>\n",
       "      <th>AGE</th>\n",
       "      <th>DIS</th>\n",
       "      <th>RAD</th>\n",
       "      <th>TAX</th>\n",
       "      <th>PTRATIO</th>\n",
       "      <th>B</th>\n",
       "      <th>LSTAT</th>\n",
       "    </tr>\n",
       "  </thead>\n",
       "  <tbody>\n",
       "    <tr>\n",
       "      <th>0</th>\n",
       "      <td>Nahant</td>\n",
       "      <td>-70.955</td>\n",
       "      <td>42.2550</td>\n",
       "      <td>24.0</td>\n",
       "      <td>0.00632</td>\n",
       "      <td>18.0</td>\n",
       "      <td>2.31</td>\n",
       "      <td>0</td>\n",
       "      <td>0.538</td>\n",
       "      <td>6.575</td>\n",
       "      <td>65.2</td>\n",
       "      <td>4.0900</td>\n",
       "      <td>1</td>\n",
       "      <td>296</td>\n",
       "      <td>15.3</td>\n",
       "      <td>396.90</td>\n",
       "      <td>4.98</td>\n",
       "    </tr>\n",
       "    <tr>\n",
       "      <th>1</th>\n",
       "      <td>Swampscott</td>\n",
       "      <td>-70.950</td>\n",
       "      <td>42.2875</td>\n",
       "      <td>21.6</td>\n",
       "      <td>0.02731</td>\n",
       "      <td>0.0</td>\n",
       "      <td>7.07</td>\n",
       "      <td>0</td>\n",
       "      <td>0.469</td>\n",
       "      <td>6.421</td>\n",
       "      <td>78.9</td>\n",
       "      <td>4.9671</td>\n",
       "      <td>2</td>\n",
       "      <td>242</td>\n",
       "      <td>17.8</td>\n",
       "      <td>396.90</td>\n",
       "      <td>9.14</td>\n",
       "    </tr>\n",
       "    <tr>\n",
       "      <th>2</th>\n",
       "      <td>Swampscott</td>\n",
       "      <td>-70.936</td>\n",
       "      <td>42.2830</td>\n",
       "      <td>34.7</td>\n",
       "      <td>0.02729</td>\n",
       "      <td>0.0</td>\n",
       "      <td>7.07</td>\n",
       "      <td>0</td>\n",
       "      <td>0.469</td>\n",
       "      <td>7.185</td>\n",
       "      <td>61.1</td>\n",
       "      <td>4.9671</td>\n",
       "      <td>2</td>\n",
       "      <td>242</td>\n",
       "      <td>17.8</td>\n",
       "      <td>392.83</td>\n",
       "      <td>4.03</td>\n",
       "    </tr>\n",
       "    <tr>\n",
       "      <th>3</th>\n",
       "      <td>Marblehead</td>\n",
       "      <td>-70.928</td>\n",
       "      <td>42.2930</td>\n",
       "      <td>33.4</td>\n",
       "      <td>0.03237</td>\n",
       "      <td>0.0</td>\n",
       "      <td>2.18</td>\n",
       "      <td>0</td>\n",
       "      <td>0.458</td>\n",
       "      <td>6.998</td>\n",
       "      <td>45.8</td>\n",
       "      <td>6.0622</td>\n",
       "      <td>3</td>\n",
       "      <td>222</td>\n",
       "      <td>18.7</td>\n",
       "      <td>394.63</td>\n",
       "      <td>2.94</td>\n",
       "    </tr>\n",
       "    <tr>\n",
       "      <th>4</th>\n",
       "      <td>Marblehead</td>\n",
       "      <td>-70.922</td>\n",
       "      <td>42.2980</td>\n",
       "      <td>36.2</td>\n",
       "      <td>0.06905</td>\n",
       "      <td>0.0</td>\n",
       "      <td>2.18</td>\n",
       "      <td>0</td>\n",
       "      <td>0.458</td>\n",
       "      <td>7.147</td>\n",
       "      <td>54.2</td>\n",
       "      <td>6.0622</td>\n",
       "      <td>3</td>\n",
       "      <td>222</td>\n",
       "      <td>18.7</td>\n",
       "      <td>396.90</td>\n",
       "      <td>5.33</td>\n",
       "    </tr>\n",
       "  </tbody>\n",
       "</table>\n",
       "</div>"
      ],
      "text/plain": [
       "         TOWN     LON      LAT  MEDV     CRIM    ZN  INDUS  CHAS    NOX  \\\n",
       "0      Nahant -70.955  42.2550  24.0  0.00632  18.0   2.31     0  0.538   \n",
       "1  Swampscott -70.950  42.2875  21.6  0.02731   0.0   7.07     0  0.469   \n",
       "2  Swampscott -70.936  42.2830  34.7  0.02729   0.0   7.07     0  0.469   \n",
       "3  Marblehead -70.928  42.2930  33.4  0.03237   0.0   2.18     0  0.458   \n",
       "4  Marblehead -70.922  42.2980  36.2  0.06905   0.0   2.18     0  0.458   \n",
       "\n",
       "      RM   AGE     DIS  RAD  TAX  PTRATIO       B  LSTAT  \n",
       "0  6.575  65.2  4.0900    1  296     15.3  396.90   4.98  \n",
       "1  6.421  78.9  4.9671    2  242     17.8  396.90   9.14  \n",
       "2  7.185  61.1  4.9671    2  242     17.8  392.83   4.03  \n",
       "3  6.998  45.8  6.0622    3  222     18.7  394.63   2.94  \n",
       "4  7.147  54.2  6.0622    3  222     18.7  396.90   5.33  "
      ]
     },
     "execution_count": 107,
     "metadata": {},
     "output_type": "execute_result"
    }
   ],
   "source": [
    "# carga de datos\n",
    "df = pd.read_csv('./boston_dataset.csv')\n",
    "df.head()"
   ]
  },
  {
   "cell_type": "code",
   "execution_count": 91,
   "id": "dad3c34a",
   "metadata": {},
   "outputs": [
    {
     "name": "stdout",
     "output_type": "stream",
     "text": [
      "<class 'pandas.core.frame.DataFrame'>\n",
      "RangeIndex: 506 entries, 0 to 505\n",
      "Data columns (total 17 columns):\n",
      " #   Column   Non-Null Count  Dtype  \n",
      "---  ------   --------------  -----  \n",
      " 0   TOWN     506 non-null    object \n",
      " 1   LON      506 non-null    float64\n",
      " 2   LAT      506 non-null    float64\n",
      " 3   MEDV     506 non-null    float64\n",
      " 4   CRIM     506 non-null    float64\n",
      " 5   ZN       506 non-null    float64\n",
      " 6   INDUS    506 non-null    float64\n",
      " 7   CHAS     506 non-null    int64  \n",
      " 8   NOX      506 non-null    float64\n",
      " 9   RM       506 non-null    float64\n",
      " 10  AGE      506 non-null    float64\n",
      " 11  DIS      506 non-null    float64\n",
      " 12  RAD      506 non-null    int64  \n",
      " 13  TAX      506 non-null    int64  \n",
      " 14  PTRATIO  506 non-null    float64\n",
      " 15  B        506 non-null    float64\n",
      " 16  LSTAT    506 non-null    float64\n",
      "dtypes: float64(13), int64(3), object(1)\n",
      "memory usage: 67.3+ KB\n"
     ]
    }
   ],
   "source": [
    "df.info()"
   ]
  },
  {
   "cell_type": "markdown",
   "id": "46c2a18a",
   "metadata": {},
   "source": [
    "ver graficamente la relacion entre el valor medio de la vivienda y el numero de habitaciones:"
   ]
  },
  {
   "cell_type": "code",
   "execution_count": 92,
   "id": "dba800a9",
   "metadata": {},
   "outputs": [
    {
     "data": {
      "image/png": "[encoded data removed]",
      "text/plain": [
       "<Figure size 432x288 with 1 Axes>"
      ]
     },
     "metadata": {
      "needs_background": "light"
     },
     "output_type": "display_data"
    }
   ],
   "source": [
    "plt.scatter(df.RM, df.MEDV, alpha=0.3);"
   ]
  },
  {
   "cell_type": "markdown",
   "id": "82fa5dce",
   "metadata": {},
   "source": [
    "# Formula de regresion lineal en forma matricial"
   ]
  },
  {
   "cell_type": "markdown",
   "id": "7cccb389",
   "metadata": {},
   "source": [
    "<img src=\"Regresion_lineal_matricial.png\" alt=\"formula\" style=\"width:600px;\"/>\n",
    "\n",
    "## $$Y = X.\\beta + \\mu$$\n",
    "\n",
    "> donde:\n",
    ">*  Y : es el vector de las variables dependientes\n",
    ">*  X : es la matriz de las variables independientes\n",
    ">*  $\\beta$ : es el vector de parámetros del modelo de regresion lineal\n",
    ">*  $\\mu$ : es el vector de los errores"
   ]
  },
  {
   "cell_type": "markdown",
   "id": "2bf2b757",
   "metadata": {},
   "source": [
    "### El objetivo es minimizar la suma de todos los errores al cuadrado\n",
    "\n",
    "## $$min[\\Sigma (\\mu{_i})^2] = min[ \\mu^T\\mu ]$$\n",
    "Recordando la propiedad de matrices:\n",
    ">* $ A^2 = A^T A $\n",
    ">* $ (A^T)^{T} =A $\n",
    ">*$ (AB)^T = B^T A^T $\n",
    ">* $ (K)^T = K $ \n",
    "``( donde k es una constante)`` "
   ]
  },
  {
   "cell_type": "markdown",
   "id": "8359c93e",
   "metadata": {},
   "source": [
    "Se despeja $\\mu$ de la formula de regresion lineal\n",
    "# $$ \\mu = Y - X.\\beta$$\n",
    "Se eleva al cuadrado ambos lados en forma matricial\n",
    "## $$[\\mu^T\\mu] = [Y - X\\beta ]^T[Y - X\\beta ] $$\n",
    "## $$ = [Y^T - (X\\beta)^T ][Y - X\\beta ] $$\n",
    "## $$= [Y^T - \\beta^T X^T ][Y - X\\beta ] $$\n",
    "Aplicando propiedad distributiva\n",
    "## $$= [Y^T Y - Y^T X\\beta - \\beta^T X^T Y + \\beta^T X^T X\\beta ] $$\n",
    "\n",
    "\n",
    "\n",
    "\n",
    "\n",
    "\n"
   ]
  },
  {
   "cell_type": "markdown",
   "id": "62eda12e",
   "metadata": {},
   "source": [
    "``Los terminos `` $[ Y^T X\\beta ]$  ``y``  $ [ \\beta^T X^T Y ]$ \n",
    "``resultan en valores escalares o constantes (fila x columna = 1x1).\n",
    "Por lo que se aplica la propiedad de constante a cualquiera de los dos``\n",
    "## $$= [Y^T Y - [ Y^T X\\beta]^T - \\beta^T X^T Y + \\beta^T X^T X\\beta ] $$"
   ]
  },
  {
   "cell_type": "markdown",
   "id": "1e26b012",
   "metadata": {},
   "source": [
    "Se resuelve aplicando propiedad de traspuesta de producto\n",
    "## $$= [Y^T Y - [ \\beta^T X^T Y] - \\beta^T X^T Y + \\beta^T X^T X\\beta ] $$\n",
    "## $$= [Y^T Y - 2 \\beta^T X^T Y + \\beta^T X^T X\\beta ] $$\n",
    "\n",
    "\n",
    "\n"
   ]
  },
  {
   "cell_type": "markdown",
   "id": "36136426",
   "metadata": {},
   "source": [
    "Ahora se deriva la ecuacion respecto a $\\beta$ y se iguala a cero para hallar el valor mínimo\n",
    "## $$ 0 - 2X^T Y + 2\\beta X^T X $$\n",
    "##  $$ -2 X^T Y + 2\\beta X^T X = 0$$"
   ]
  },
  {
   "cell_type": "markdown",
   "id": "f9b0d4ac",
   "metadata": {},
   "source": [
    "se simplifica - <s>2</s> $X^T Y + $ <s>2</s> $\\beta X^T X = 0$ y se pasa término al otro lado de la igualdad\n",
    "## $$ \\beta X^T X = X^T Y$$"
   ]
  },
  {
   "cell_type": "markdown",
   "id": "5ade35d4",
   "metadata": {},
   "source": [
    "Finalmente se despeja $B$, que es el vector de parametros, y que cumplen con el mÍnimo error cuadratico medio\n",
    "## $$ \\beta =(X^T X)^{-1} X^T Y $$"
   ]
  },
  {
   "cell_type": "markdown",
   "id": "1b345e15",
   "metadata": {},
   "source": [
    "# Se aplica el Método de los mínimos cuadrados ordinarios"
   ]
  },
  {
   "cell_type": "markdown",
   "id": "cfdea576",
   "metadata": {},
   "source": [
    "Definimos las variables <b>X</b> e <b>Y</b> como matrices de numpy:"
   ]
  },
  {
   "cell_type": "code",
   "execution_count": 108,
   "id": "d5139824",
   "metadata": {},
   "outputs": [],
   "source": [
    "Xo = np.array(df.RM) # X original\n",
    "Y =  np.array(df.MEDV)"
   ]
  },
  {
   "cell_type": "markdown",
   "id": "06cb5b1a",
   "metadata": {},
   "source": [
    "AGREGAMOS el vector de UNOS a la matriz X:"
   ]
  },
  {
   "cell_type": "code",
   "execution_count": 94,
   "id": "d633082f",
   "metadata": {},
   "outputs": [
    {
     "name": "stdout",
     "output_type": "stream",
     "text": [
      "(2, 506)\n"
     ]
    }
   ],
   "source": [
    "ONES = np.ones(len(Xo))\n",
    "X = np.array([ONES ,Xo]) # nueva X             \n",
    "print(X.shape) "
   ]
  },
  {
   "cell_type": "code",
   "execution_count": 95,
   "id": "6050b3a5",
   "metadata": {},
   "outputs": [
    {
     "name": "stdout",
     "output_type": "stream",
     "text": [
      "(506, 2)\n"
     ]
    }
   ],
   "source": [
    "X = X.T # cambiamos filas por columnas para que la matriz X tenga la forma correcta\n",
    "print(X.shape) "
   ]
  },
  {
   "cell_type": "markdown",
   "id": "c2187c99",
   "metadata": {},
   "source": [
    "Aplicamos la formula del metodo de MINIMOS CUADRADOS ORDINARIO y se encuentra el vector $\\beta$"
   ]
  },
  {
   "cell_type": "code",
   "execution_count": 96,
   "id": "153ab7de",
   "metadata": {},
   "outputs": [
    {
     "name": "stdout",
     "output_type": "stream",
     "text": [
      "B= [B0  B1 ... Bn] :\n",
      "[-34.65924312   9.09966966]\n"
     ]
    }
   ],
   "source": [
    "B = np.linalg.inv(X.T @ X) @ (X.T) @ Y\n",
    "print('B= [B0  B1 ... Bn] :')\n",
    "print(B)"
   ]
  },
  {
   "cell_type": "markdown",
   "id": "03c626f2",
   "metadata": {},
   "source": [
    "### Finalmente con los valores de $\\beta$ hallados graficamos nuestro modelo sobre la grafica inicial"
   ]
  },
  {
   "cell_type": "code",
   "execution_count": 106,
   "id": "01de47e0",
   "metadata": {},
   "outputs": [
    {
     "data": {
      "image/png": "[encoded data removed]",
      "text/plain": [
       "<Figure size 432x288 with 1 Axes>"
      ]
     },
     "metadata": {
      "needs_background": "light"
     },
     "output_type": "display_data"
    }
   ],
   "source": [
    "# GRAFICA INICIAL\n",
    "plt.scatter(Xo,Yo, alpha= 0.3)\n",
    "\n",
    "# DEFINIMOS la linea recta a graficar, desde x=4 hasta x=9\n",
    "x0 = 4\n",
    "x1 = 9\n",
    "y0 = B[0] + B[1]*x0\n",
    "y1 = B[0] + B[1]*x1\n",
    "\n",
    "plt.plot( [x0, x1], [y0, y1], c = \"red\");"
   ]
  }
 ],
 "metadata": {
  "kernelspec": {
   "display_name": "Python 3 (ipykernel)",
   "language": "python",
   "name": "python3"
  },
  "language_info": {
   "codemirror_mode": {
    "name": "ipython",
    "version": 3
   },
   "file_extension": ".py",
   "mimetype": "text/x-python",
   "name": "python",
   "nbconvert_exporter": "python",
   "pygments_lexer": "ipython3",
   "version": "3.10.5"
  },
  "toc": {
   "base_numbering": 1,
   "nav_menu": {},
   "number_sections": true,
   "sideBar": true,
   "skip_h1_title": false,
   "title_cell": "Table of Contents",
   "title_sidebar": "Contents",
   "toc_cell": false,
   "toc_position": {},
   "toc_section_display": true,
   "toc_window_display": false
  },
  "varInspector": {
   "cols": {
    "lenName": 16,
    "lenType": 16,
    "lenVar": 40
   },
   "kernels_config": {
    "python": {
     "delete_cmd_postfix": "",
     "delete_cmd_prefix": "del ",
     "library": "var_list.py",
     "varRefreshCmd": "print(var_dic_list())"
    },
    "r": {
     "delete_cmd_postfix": ") ",
     "delete_cmd_prefix": "rm(",
     "library": "var_list.r",
     "varRefreshCmd": "cat(var_dic_list()) "
    }
   },
   "types_to_exclude": [
    "module",
    "function",
    "builtin_function_or_method",
    "instance",
    "_Feature"
   ],
   "window_display": true
  }
 },
 "nbformat": 4,
 "nbformat_minor": 5
}
